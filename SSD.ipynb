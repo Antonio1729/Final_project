{
 "cells": [
  {
   "cell_type": "code",
   "execution_count": 34,
   "metadata": {},
   "outputs": [],
   "source": [
    "import cv2\n",
    "import time\n",
    "import torch\n",
    "import torchvision\n",
    "from torchvision.models.detection import ssdlite320_mobilenet_v3_large, ssd300_vgg16\n",
    "from torchvision.transforms import functional as F\n",
    "from PIL import Image\n",
    "from torchvision.models.detection.retinanet import _COCO_CATEGORIES\n",
    "from collections import deque\n",
    "import gc\n"
   ]
  },
  {
   "cell_type": "code",
   "execution_count": 35,
   "metadata": {},
   "outputs": [
    {
     "data": {
      "text/plain": [
       "device(type='cuda')"
      ]
     },
     "execution_count": 35,
     "metadata": {},
     "output_type": "execute_result"
    }
   ],
   "source": [
    "device = torch.device('cuda') if torch.cuda.is_available() else torch.device('cpu')\n",
    "device"
   ]
  },
  {
   "cell_type": "code",
   "execution_count": 36,
   "metadata": {},
   "outputs": [
    {
     "name": "stderr",
     "output_type": "stream",
     "text": [
      "c:\\Users\\Asus\\.conda\\envs\\yolo10\\lib\\site-packages\\torchvision\\models\\_utils.py:223: UserWarning: Arguments other than a weight enum or `None` for 'weights' are deprecated since 0.13 and may be removed in the future. The current behavior is equivalent to passing `weights=SSD300_VGG16_Weights.COCO_V1`. You can also use `weights=SSD300_VGG16_Weights.DEFAULT` to get the most up-to-date weights.\n",
      "  warnings.warn(msg)\n"
     ]
    }
   ],
   "source": [
    "# model = ssdlite320_mobilenet_v3_large(pretrained=True)\n",
    "model = ssd300_vgg16(pretrained=True)\n",
    "model.eval()\n",
    "model = model.to(device)"
   ]
  },
  {
   "cell_type": "code",
   "execution_count": 37,
   "metadata": {},
   "outputs": [],
   "source": [
    "video_path = './data/lange_10.mp4'\n",
    "output_path = './result/lange_10_SDD.mp4'\n",
    "\n",
    "cap = cv2.VideoCapture(video_path)\n",
    "\n",
    "frame_width = int(cap.get(3))\n",
    "frame_height = int(cap.get(4))\n",
    "fps = cap.get(cv2.CAP_PROP_FPS)\n",
    "total_frames = int(cap.get(cv2.CAP_PROP_FRAME_COUNT))\n",
    "\n",
    "out = cv2.VideoWriter(output_path, cv2.VideoWriter_fourcc(*'mp4v'), fps, (frame_width, frame_height))\n"
   ]
  },
  {
   "cell_type": "code",
   "execution_count": 38,
   "metadata": {},
   "outputs": [],
   "source": [
    "cls_list = ['car', 'motorcycle', 'bus', 'truck']\n",
    "\n",
    "def get_predictions(frames, model, device, threshold=0.4):\n",
    "    transform = torchvision.transforms.ToTensor()\n",
    "    frames_tensor = [transform(frame).to(device) for frame in frames]\n",
    "    with torch.no_grad():\n",
    "        outputs = model(frames_tensor)\n",
    "    \n",
    "    all_pred_boxes = []\n",
    "    all_pred_classes = []\n",
    "    all_pred_scores = []\n",
    "\n",
    "    for output in outputs:\n",
    "        boxes = output['boxes']\n",
    "        labels = output['labels']\n",
    "        scores = output['scores']\n",
    "\n",
    "        pred_boxes = []\n",
    "        pred_classes = []\n",
    "        pred_scores = []\n",
    "        for box, label, score in zip(boxes, labels, scores):\n",
    "            if score > threshold and _COCO_CATEGORIES[label] in cls_list:\n",
    "                pred_boxes.append(box)\n",
    "                pred_classes.append(_COCO_CATEGORIES[label])\n",
    "                pred_scores.append(score)\n",
    "\n",
    "        all_pred_boxes.append(pred_boxes)\n",
    "        all_pred_classes.append(pred_classes)\n",
    "        all_pred_scores.append(pred_scores)\n",
    "\n",
    "    return all_pred_boxes, all_pred_classes, all_pred_scores"
   ]
  },
  {
   "cell_type": "code",
   "execution_count": 39,
   "metadata": {},
   "outputs": [
    {
     "name": "stdout",
     "output_type": "stream",
     "text": [
      "Average FPS: 1.3504207325220035\n"
     ]
    },
    {
     "data": {
      "text/plain": [
       "0"
      ]
     },
     "execution_count": 39,
     "metadata": {},
     "output_type": "execute_result"
    }
   ],
   "source": [
    "batch_size = 32\n",
    "frames_buffer = deque()\n",
    "total_frames = 0\n",
    "fps_start_time = time.time()\n",
    "\n",
    "while cap.isOpened():\n",
    "    ret, frame = cap.read()\n",
    "    if not ret:\n",
    "        break\n",
    "\n",
    "    total_frames += 1\n",
    "    frames_buffer.append(frame)\n",
    "\n",
    "    if len(frames_buffer) == batch_size:\n",
    "        frames_list = list(frames_buffer)\n",
    "        boxes_batch, classes_batch, scores_batch = get_predictions(frames_list, model, device)\n",
    "\n",
    "        for frame, boxes, cls, scores in zip(frames_list, boxes_batch, classes_batch, scores_batch):\n",
    "            for box, cl, score in zip(boxes, cls, scores):\n",
    "                x1, y1, x2, y2 = map(int, box.tolist())\n",
    "                cv2.rectangle(frame, (x1, y1), (x2, y2), (0, 255, 0), 6)\n",
    "                label = f'{cl} {score:.2f}'\n",
    "                cv2.putText(frame, label, (x1, y1 - 10), cv2.FONT_HERSHEY_SIMPLEX, 1.2, (0, 255, 0), 6)\n",
    "            out.write(frame)\n",
    "\n",
    "        frames_buffer.clear()\n",
    "\n",
    "# Обработка оставшихся кадров\n",
    "if len(frames_buffer) > 0:\n",
    "    frames_list = list(frames_buffer)\n",
    "    boxes_batch, classes_batch, scores_batch = get_predictions(frames_list, model, device)\n",
    "\n",
    "    for frame, boxes, cls, scores in zip(frames_list, boxes_batch, classes_batch, scores_batch):\n",
    "        for box, cl, score in zip(boxes, cls, scores):\n",
    "            x1, y1, x2, y2 = map(int, box.tolist())\n",
    "            cv2.rectangle(frame, (x1, y1), (x2, y2), (0, 255, 0), 6)\n",
    "            label = f'{cl} {score:.2f}'\n",
    "            cv2.putText(frame, label, (x1, y1 - 10), cv2.FONT_HERSHEY_SIMPLEX, 1.2, (0, 255, 0), 6)\n",
    "        out.write(frame)\n",
    "\n",
    "fps_end_time = time.time()\n",
    "average_fps = total_frames / (fps_end_time - fps_start_time)\n",
    "\n",
    "print(\"Average FPS:\", average_fps)\n",
    "\n",
    "cap.release()\n",
    "out.release()\n",
    "cv2.destroyAllWindows()\n",
    "torch.cuda.empty_cache()\n",
    "gc.collect()\n"
   ]
  }
 ],
 "metadata": {
  "kernelspec": {
   "display_name": "CV",
   "language": "python",
   "name": "python3"
  },
  "language_info": {
   "codemirror_mode": {
    "name": "ipython",
    "version": 3
   },
   "file_extension": ".py",
   "mimetype": "text/x-python",
   "name": "python",
   "nbconvert_exporter": "python",
   "pygments_lexer": "ipython3",
   "version": "3.9.19"
  }
 },
 "nbformat": 4,
 "nbformat_minor": 2
}
