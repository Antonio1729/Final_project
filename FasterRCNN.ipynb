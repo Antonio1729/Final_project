{
 "cells": [
  {
   "cell_type": "code",
   "execution_count": 4,
   "metadata": {},
   "outputs": [],
   "source": [
    "from io import BytesIO\n",
    "\n",
    "import cv2\n",
    "import matplotlib.patches as patches\n",
    "import matplotlib.pyplot as plt\n",
    "import numpy as np\n",
    "import requests\n",
    "import torch\n",
    "import torchvision.transforms as T\n",
    "from PIL import Image\n",
    "from torchvision.models.detection import FasterRCNN_ResNet50_FPN_Weights, FasterRCNN\n",
    "from torchvision.models.detection import fasterrcnn_resnet50_fpn, fasterrcnn_mobilenet_v3_large_320_fpn\n",
    "from torchvision.models.detection.retinanet import _COCO_CATEGORIES\n",
    "from tqdm import tqdm\n",
    "import torchvision\n",
    "import time"
   ]
  },
  {
   "cell_type": "code",
   "execution_count": 5,
   "metadata": {},
   "outputs": [],
   "source": [
    "device = torch.device('cuda') if torch.cuda.is_available() else torch.device('cpu')\n",
    "\n",
    "model = fasterrcnn_resnet50_fpn(pretrained=True)\n",
    "model.to(device)\n",
    "model.eval()\n",
    "\n",
    "transform = T.Compose([T.ToTensor()])\n",
    "\n",
    "video_path = './data/lange_10.mp4'\n",
    "output_path = './result/lange_10_fasterrcnn_resnet50_fpn.mp4'\n",
    "\n",
    "cap = cv2.VideoCapture(video_path)\n",
    "\n",
    "frame_width = int(cap.get(cv2.CAP_PROP_FRAME_WIDTH))\n",
    "frame_height = int(cap.get(cv2.CAP_PROP_FRAME_HEIGHT))\n",
    "fps = cap.get(cv2.CAP_PROP_FPS)  \n",
    "out = cv2.VideoWriter(output_path, cv2.VideoWriter_fourcc(*'mp4v'), fps, (frame_width, frame_height))\n",
    "total_frames = int(cap.get(cv2.CAP_PROP_FRAME_COUNT))\n"
   ]
  },
  {
   "cell_type": "code",
   "execution_count": 6,
   "metadata": {},
   "outputs": [
    {
     "name": "stdout",
     "output_type": "stream",
     "text": [
      "Average FPS: 1.3157653758333472\n"
     ]
    }
   ],
   "source": [
    "fps_start_time = time.time()\n",
    "fps_counter = 0\n",
    "vehicle_classes = [2, 3, 5, 7]  # 2 - car, 3 - motorcycle, 5 - bus, 7 - truck\n",
    "\n",
    "while cap.isOpened():\n",
    "    ret, frame = cap.read()\n",
    "    if not ret:\n",
    "        break\n",
    "    \n",
    "    image = cv2.cvtColor(frame, cv2.COLOR_BGR2RGB)\n",
    "    input_tensor = transform(image).to(device)\n",
    "    with torch.no_grad():\n",
    "        prediction = model([input_tensor])\n",
    "\n",
    "    confidence_threshold = 0.5 \n",
    "    for label, score, bbox in zip(prediction[0]['labels'], prediction[0]['scores'], prediction[0]['boxes']):\n",
    "        if label in vehicle_classes and score >= confidence_threshold:  \n",
    "            bbox = bbox.cpu().numpy().astype(int)\n",
    "            cv2.rectangle(frame, (bbox[0], bbox[1]), (bbox[2], bbox[3]), (0, 255, 0), 5)\n",
    "            cv2.putText(frame, f\"{_COCO_CATEGORIES[label]}:{score:.2f}\", (bbox[0], bbox[1] - 10), cv2.FONT_HERSHEY_SIMPLEX, 2, (0, 255, 0), 5)\n",
    "    \n",
    "    out.write(frame)\n",
    "\n",
    "    \n",
    "fps_end_time = time.time()\n",
    "average_fps = total_frames / (fps_end_time - fps_start_time)\n",
    "\n",
    "print(\"Average FPS:\", average_fps)\n",
    "\n",
    "cap.release()\n",
    "out.release()\n",
    "cv2.destroyAllWindows()\n"
   ]
  },
  {
   "cell_type": "code",
   "execution_count": null,
   "metadata": {},
   "outputs": [],
   "source": []
  }
 ],
 "metadata": {
  "kernelspec": {
   "display_name": "CV",
   "language": "python",
   "name": "python3"
  },
  "language_info": {
   "codemirror_mode": {
    "name": "ipython",
    "version": 3
   },
   "file_extension": ".py",
   "mimetype": "text/x-python",
   "name": "python",
   "nbconvert_exporter": "python",
   "pygments_lexer": "ipython3",
   "version": "3.9.19"
  }
 },
 "nbformat": 4,
 "nbformat_minor": 2
}
